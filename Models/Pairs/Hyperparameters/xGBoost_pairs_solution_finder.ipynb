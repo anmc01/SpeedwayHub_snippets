{
 "cells": [
  {
   "metadata": {},
   "cell_type": "markdown",
   "source": "# Hyperparameters finder for xGBoost",
   "id": "8557b43a993fc4a7"
  },
  {
   "metadata": {},
   "cell_type": "code",
   "outputs": [],
   "execution_count": null,
   "source": [
    "# Imports & dataset opening\n",
    "from datetime import datetime\n",
    "\n",
    "import pandas as pd\n",
    "\n",
    "from Models.Pairs.Hyperparameters.hyperopt_hyperparameters import HyperOptXgboost\n",
    "from Models.Pairs.Hyperparameters.optuna_hyperparameters import OptunaXgboost\n",
    "from Models.variables import PAIRS_DATASET, HYPEROPT_EVALUATIONS, OPTUNA_TRIALS\n",
    "\n",
    "dataset = pd.read_parquet(f\"../../../Dataset/Datasets/{PAIRS_DATASET}\")\n",
    "number_of_trials = 50\n",
    "# method = 'Hyperopt'\n",
    "method = 'Optuna'"
   ],
   "id": "a27b69b205e69b8b"
  },
  {
   "metadata": {},
   "cell_type": "code",
   "outputs": [],
   "execution_count": null,
   "source": [
    "# Run solution finder\n",
    "results = list()\n",
    "\n",
    "if method == 'Hyperopt':\n",
    "    for i in range(number_of_trials):\n",
    "        hyper = HyperOptXgboost(dataset, prints=False, no_of_evals=HYPEROPT_EVALUATIONS)\n",
    "        results.append([i + 1, hyper.pairs, hyper.accuracy, hyper.accuracy_with_bonuses, hyper.hyperopt_results])\n",
    "        print(results[-1][:-1])\n",
    "\n",
    "elif method == 'Optuna':\n",
    "    for i in range(number_of_trials):\n",
    "        hyper = OptunaXgboost(dataset, prints=False, no_of_trials=OPTUNA_TRIALS, accuracy_threshold=0.709)\n",
    "        results.append([i + 1, hyper.pairs, hyper.accuracy, hyper.accuracy_with_bonuses, hyper.optuna_results])\n",
    "        print(results[-1][:-1])"
   ],
   "id": "84b203381baaaac0"
  },
  {
   "metadata": {},
   "cell_type": "code",
   "outputs": [],
   "execution_count": null,
   "source": [
    "# Save results\n",
    "time_now = datetime.now()\n",
    "\n",
    "filename = f\"Solutions/{method}/solution_{time_now.strftime('%m%d')}_{time_now.strftime('%H%M')}_{PAIRS_DATASET}\"\n",
    "\n",
    "df = pd.DataFrame(data=results, columns=['Run', 'Pairs_accuracy', 'Accuracy', 'Accuracy_with_bonuses', f'{method}_results'])\n",
    "df.to_parquet(filename)"
   ],
   "id": "d84732308871e2ed"
  },
  {
   "metadata": {},
   "cell_type": "code",
   "outputs": [],
   "execution_count": null,
   "source": [
    "# Open results\n",
    "opened = pd.read_parquet(filename)\n",
    "opened = opened.sort_values(['Accuracy_with_bonuses', 'Accuracy', 'Pairs_accuracy'], ascending=[False, False, False]).reset_index(drop=True)\n",
    "opened"
   ],
   "id": "fc77d6654ffbd5bc"
  },
  {
   "metadata": {},
   "cell_type": "code",
   "outputs": [],
   "execution_count": null,
   "source": "opened.loc[0, f'{method}_results']",
   "id": "b835cd544c6cd7d0"
  }
 ],
 "metadata": {
  "kernelspec": {
   "display_name": "Python 3 (ipykernel)",
   "language": "python",
   "name": "python3"
  },
  "language_info": {
   "codemirror_mode": {
    "name": "ipython",
    "version": 3
   },
   "file_extension": ".py",
   "mimetype": "text/x-python",
   "name": "python",
   "nbconvert_exporter": "python",
   "pygments_lexer": "ipython3",
   "version": "3.12.9"
  }
 },
 "nbformat": 4,
 "nbformat_minor": 5
}
