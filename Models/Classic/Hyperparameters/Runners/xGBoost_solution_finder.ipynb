{
 "cells": [
  {
   "metadata": {},
   "cell_type": "markdown",
   "source": "# Hyperparameters finder for xGBoost",
   "id": "fdf9aa1dc8048104"
  },
  {
   "metadata": {},
   "cell_type": "code",
   "outputs": [],
   "execution_count": null,
   "source": [
    "# Imports & dataset opening\n",
    "from datetime import datetime\n",
    "\n",
    "import pandas as pd\n",
    "\n",
    "from Models.Hyperparameters.hyperopt_hyperparameters import HyperOptXgboost\n",
    "from Models.Hyperparameters.optuna_hyperparameters import OptunaXgboost\n",
    "from Models.variables import HYPERPARAMETERS_DATASET, HYPEROPT_EVALUATIONS, OPTUNA_TRIALS\n",
    "\n",
    "dataset = pd.read_parquet(f\"../../Datasets/{HYPERPARAMETERS_DATASET}\")\n",
    "number_of_trials = 20\n",
    "method = 'Hyperopt'\n",
    "# method = 'Optuna'"
   ],
   "id": "f6c8cab485eefb23"
  },
  {
   "metadata": {},
   "cell_type": "code",
   "outputs": [],
   "execution_count": null,
   "source": [
    "# Run solution finder\n",
    "results = list()\n",
    "\n",
    "if method == 'Hyperopt':\n",
    "    for i in range(number_of_trials):\n",
    "        hyper = HyperOptXgboost(dataset, prints=False, no_of_evals=HYPEROPT_EVALUATIONS)\n",
    "        results.append([i + 1, hyper.mae, hyper.rps, hyper.accuracy, hyper.accuracy_with_bonuses, hyper.hyperopt_results])\n",
    "        print(results[-1][:-1])\n",
    "\n",
    "elif method == 'Optuna':\n",
    "    for i in range(number_of_trials):\n",
    "        hyper = OptunaXgboost(dataset, prints=False, no_of_trials=OPTUNA_TRIALS)\n",
    "        results.append([i + 1, hyper.mae, hyper.rps, hyper.accuracy, hyper.accuracy_with_bonuses, hyper.optuna_results])\n",
    "        print(results[-1][:-1])"
   ],
   "id": "22479b1a32423cce"
  },
  {
   "metadata": {},
   "cell_type": "code",
   "outputs": [],
   "execution_count": null,
   "source": [
    "# Save results\n",
    "time_now = datetime.now()\n",
    "\n",
    "filename = f\"../Solutions/{method}/solution_{time_now.strftime('%m%d')}_{time_now.strftime('%H%M')}_{HYPERPARAMETERS_DATASET}\"\n",
    "\n",
    "df = pd.DataFrame(data=results, columns=['Run', 'MAE', 'RPS', 'Accuracy', 'Accuracy_with_bonuses', f'{method}_results'])\n",
    "df.to_parquet(filename)"
   ],
   "id": "496506560964b56a"
  },
  {
   "metadata": {},
   "cell_type": "code",
   "outputs": [],
   "execution_count": null,
   "source": [
    "# Open results\n",
    "opened = pd.read_parquet(filename)\n",
    "opened = opened.sort_values('Accuracy_with_bonuses', ascending=False).reset_index(drop=True)\n",
    "opened"
   ],
   "id": "8df286fda97777b6"
  },
  {
   "metadata": {},
   "cell_type": "code",
   "outputs": [],
   "execution_count": null,
   "source": "opened.loc[0, f'{method}_results']",
   "id": "87cfd2c66b1e639c"
  }
 ],
 "metadata": {
  "kernelspec": {
   "display_name": "Python 3 (ipykernel)",
   "language": "python",
   "name": "python3"
  },
  "language_info": {
   "codemirror_mode": {
    "name": "ipython",
    "version": 3
   },
   "file_extension": ".py",
   "mimetype": "text/x-python",
   "name": "python",
   "nbconvert_exporter": "python",
   "pygments_lexer": "ipython3",
   "version": "3.12.9"
  }
 },
 "nbformat": 4,
 "nbformat_minor": 5
}
