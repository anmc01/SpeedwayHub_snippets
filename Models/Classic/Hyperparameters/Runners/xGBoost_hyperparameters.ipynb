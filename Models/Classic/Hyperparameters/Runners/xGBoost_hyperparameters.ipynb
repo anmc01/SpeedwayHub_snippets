{
 "cells": [
  {
   "metadata": {},
   "cell_type": "markdown",
   "source": "# xGBoost model improving - tuning hyperparameters",
   "id": "9569cb328879980f"
  },
  {
   "metadata": {},
   "cell_type": "code",
   "source": [
    "import pandas as pd\n",
    "\n",
    "from Models.Hyperparameters.hyperopt_hyperparameters import HyperOptXgboost\n",
    "from Models.Hyperparameters.optuna_hyperparameters import OptunaXgboost\n",
    "from Models.Hyperparameters.randomsearch_hyperparameters import RandomSearchXgBoost\n",
    "from Models.variables import HYPERPARAMETERS_DATASET\n",
    "from Models.xgboost_model import TrainXgBoost\n",
    "\n",
    "dataset = pd.read_parquet(f\"../../Datasets/{HYPERPARAMETERS_DATASET}\")"
   ],
   "id": "ba1be95d408d20bc",
   "outputs": [],
   "execution_count": null
  },
  {
   "metadata": {},
   "cell_type": "markdown",
   "source": "## Base model",
   "id": "3ab42da111ef6052"
  },
  {
   "metadata": {},
   "cell_type": "code",
   "source": [
    "regression = TrainXgBoost(dataset, test_range=[2024])\n",
    "regression.create_regression_model()\n",
    "regression.evaluate_regression()"
   ],
   "id": "818d03e53d423a48",
   "outputs": [],
   "execution_count": null
  },
  {
   "metadata": {},
   "cell_type": "markdown",
   "source": "## Random search",
   "id": "1172bc5d0addb292"
  },
  {
   "metadata": {},
   "cell_type": "code",
   "source": "RandomSearchXgBoost(dataset, hyper_details=True)",
   "id": "4a3dbcca5a1757c4",
   "outputs": [],
   "execution_count": null
  },
  {
   "metadata": {},
   "cell_type": "markdown",
   "source": "## Hyperopt",
   "id": "76aa132c6da951de"
  },
  {
   "metadata": {},
   "cell_type": "code",
   "source": "HyperOptXgboost(dataset, hyper_details=True)",
   "id": "efee4ebda88641eb",
   "outputs": [],
   "execution_count": null
  },
  {
   "metadata": {},
   "cell_type": "markdown",
   "source": "## Optuna",
   "id": "61658a17ed8286a6"
  },
  {
   "metadata": {},
   "cell_type": "code",
   "source": "OptunaXgboost(dataset,hyper_details=True)",
   "id": "24de3c3dedc24195",
   "outputs": [],
   "execution_count": null
  }
 ],
 "metadata": {
  "kernelspec": {
   "display_name": "Python 3",
   "language": "python",
   "name": "python3"
  },
  "language_info": {
   "codemirror_mode": {
    "name": "ipython",
    "version": 2
   },
   "file_extension": ".py",
   "mimetype": "text/x-python",
   "name": "python",
   "nbconvert_exporter": "python",
   "pygments_lexer": "ipython2",
   "version": "2.7.6"
  }
 },
 "nbformat": 4,
 "nbformat_minor": 5
}
