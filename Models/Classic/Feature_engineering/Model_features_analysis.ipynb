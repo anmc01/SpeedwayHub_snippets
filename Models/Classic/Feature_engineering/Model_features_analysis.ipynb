{
 "cells": [
  {
   "cell_type": "markdown",
   "id": "1a2a7c17a5f45945",
   "metadata": {},
   "source": "# Model features analysis"
  },
  {
   "cell_type": "code",
   "id": "8006c20bb72e3494",
   "metadata": {},
   "source": [
    "import matplotlib.pyplot as plt\n",
    "import pandas as pd\n",
    "\n",
    "from Models.Feature_engineering.Model_explainer import ExplainModel\n",
    "from Models.variables import MODELS_DATASET\n",
    "\n",
    "plt.rcParams.update(plt.rcParamsDefault)\n",
    "plt.style.use(\"Solarize_Light2\")\n",
    "%matplotlib inline\n",
    "\n",
    "plt.ioff()\n",
    "\n",
    "dataset = pd.read_parquet(f\"../Datasets/{MODELS_DATASET}\")\n",
    "features = ExplainModel(dataset)\n",
    "\n",
    "plt.ion()"
   ],
   "outputs": [],
   "execution_count": null
  },
  {
   "cell_type": "code",
   "id": "159fd797b8bab793",
   "metadata": {},
   "source": [
    "features.importances_heatmap"
   ],
   "outputs": [],
   "execution_count": null
  },
  {
   "cell_type": "code",
   "id": "6b4825ea2ae7c851",
   "metadata": {},
   "source": [
    "features.shap_summary"
   ],
   "outputs": [],
   "execution_count": null
  },
  {
   "cell_type": "code",
   "id": "1966d9627a025740",
   "metadata": {},
   "source": [
    "features.correlation_heatmap"
   ],
   "outputs": [],
   "execution_count": null
  },
  {
   "cell_type": "code",
   "id": "24953ccb34a021bc",
   "metadata": {},
   "source": [
    "features.permutation_importance"
   ],
   "outputs": [],
   "execution_count": null
  },
  {
   "cell_type": "code",
   "id": "19e844d1541f0c23",
   "metadata": {},
   "source": [
    "features.prediction_charts[0]"
   ],
   "outputs": [],
   "execution_count": null
  }
 ],
 "metadata": {
  "kernelspec": {
   "display_name": "Python 3 (ipykernel)",
   "language": "python",
   "name": "python3"
  },
  "language_info": {
   "codemirror_mode": {
    "name": "ipython",
    "version": 3
   },
   "file_extension": ".py",
   "mimetype": "text/x-python",
   "name": "python",
   "nbconvert_exporter": "python",
   "pygments_lexer": "ipython3",
   "version": "3.12.9"
  }
 },
 "nbformat": 4,
 "nbformat_minor": 5
}
